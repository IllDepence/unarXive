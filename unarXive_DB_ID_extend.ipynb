{
 "cells": [
  {
   "cell_type": "markdown",
   "metadata": {},
   "source": [
    "## Prepare refs.db"
   ]
  },
  {
   "cell_type": "code",
   "execution_count": 3,
   "metadata": {},
   "outputs": [],
   "source": [
    "from sqlalchemy import create_engine\n",
    "\n",
    "db_uri = 'sqlite:///arxiv_v2.1_refs.db'\n",
    "db_engine = create_engine(db_uri)\n",
    "\n",
    "q = '''CREATE TABLE bibitem (\n",
    "\tuuid VARCHAR(36) NOT NULL,\n",
    "\tciting_mag_id VARCHAR(36),\n",
    "\tcited_mag_id VARCHAR(36),\n",
    "\tciting_arxiv_id VARCHAR(36),\n",
    "\tcited_arxiv_id VARCHAR(36),\n",
    "\tbibitem_string TEXT,\n",
    "\tPRIMARY KEY (uuid)\n",
    ");'''\n",
    "\n",
    "foo = db_engine.execute(q)"
   ]
  },
  {
   "cell_type": "markdown",
   "metadata": {},
   "source": [
    "manually executed\n",
    "\n",
    "```\n",
    "alter table bibitem rename to bibitemOld;\n",
    "\n",
    "<then ran above>\n",
    "\n",
    "insert into bibitem (uuid, cited_mag_id, citing_arxiv_id, bibitem_string) select bibitemOld.uuid, mag_id, in_doc, bibitem_string from bibitemOld left join bibitemmagidmap on bibitemOld.uuid = bibitemmagidmap.uuid;sqlite> select count(*) from bibitem;\n",
    "```"
   ]
  },
  {
   "cell_type": "markdown",
   "metadata": {},
   "source": [
    "## Prepare MAG ID ↔ arXiv ID mappings"
   ]
  },
  {
   "cell_type": "code",
   "execution_count": 4,
   "metadata": {},
   "outputs": [
    {
     "name": "stdout",
     "output_type": "stream",
     "text": [
      "done\n"
     ]
    }
   ],
   "source": [
    "import csv\n",
    "\n",
    "mid_aid_map = {}\n",
    "aid_mid_map = {}\n",
    "\n",
    "with open('mag_id_2_arxiv_id.csv') as f:\n",
    "    csv_reader = csv.reader(f, delimiter=',')\n",
    "    for row in csv_reader:\n",
    "        mid = row[0]\n",
    "        aid = row[3]\n",
    "        mid_aid_map[mid] = aid\n",
    "        aid_mid_map[aid] = mid\n",
    "        \n",
    "print('done')"
   ]
  },
  {
   "cell_type": "code",
   "execution_count": 9,
   "metadata": {},
   "outputs": [
    {
     "name": "stdout",
     "output_type": "stream",
     "text": [
      "index 1 built\n",
      "index 2 built\n"
     ]
    }
   ],
   "source": [
    "q_idx1 = 'CREATE INDEX bibitem_citing_aid_idx ON bibitem (citing_arxiv_id);'\n",
    "q_idx2 = 'CREATE INDEX bibitem_cited_mid_idx ON bibitem (cited_mag_id);'\n",
    "foo = db_engine.execute(q_idx1);\n",
    "print('index 1 built')\n",
    "foo = db_engine.execute(q_idx2);\n",
    "print('index 2 built')"
   ]
  },
  {
   "cell_type": "code",
   "execution_count": null,
   "metadata": {},
   "outputs": [],
   "source": [
    "import datetime\n",
    "i = 0\n",
    "count_all = len(mid_aid_map)\n",
    "for mid, aid in mid_aid_map.items():\n",
    "    if i%100000 == 0:\n",
    "        print('{}: {}/{}  ({:.2f})'.format(datetime.datetime.now(), i, count_all, i/count_all))\n",
    "    q = 'UPDATE bibitem SET citing_mag_id = \"{}\" where citing_arxiv_id = \"{}\";'.format(mid, aid)\n",
    "    foo = db_engine.execute(q)\n",
    "    q = 'UPDATE bibitem SET cited_arxiv_id = \"{}\" where cited_mag_id = \"{}\";'.format(aid, mid)\n",
    "    foo = db_engine.execute(q)\n",
    "    i += 1"
   ]
  },
  {
   "cell_type": "markdown",
   "metadata": {},
   "source": [
    "```\n",
    "2019-08-09 18:32:36.920674: 0/1412190  (0.00)\n",
    "2019-08-09 19:02:41.504153: 100000/1412190  (0.07)\n",
    "2019-08-09 19:30:45.352849: 200000/1412190  (0.14)\n",
    "2019-08-09 20:01:49.597559: 300000/1412190  (0.21)\n",
    "2019-08-09 20:39:33.143241: 400000/1412190  (0.28)\n",
    "2019-08-09 21:17:19.208086: 500000/1412190  (0.35)\n",
    "2019-08-09 21:54:53.519787: 600000/1412190  (0.42)\n",
    "2019-08-09 22:32:23.416555: 700000/1412190  (0.50)\n",
    "2019-08-09 23:08:59.816808: 800000/1412190  (0.57)\n",
    "2019-08-09 23:45:21.860331: 900000/1412190  (0.64)\n",
    "2019-08-10 00:17:21.326966: 1000000/1412190  (0.71)\n",
    "2019-08-10 00:49:14.437472: 1100000/1412190  (0.78)\n",
    "2019-08-10 01:20:52.882915: 1200000/1412190  (0.85)\n",
    "2019-08-10 01:50:09.262802: 1300000/1412190  (0.92)\n",
    "2019-08-10 02:16:09.689792: 1400000/1412190  (0.99)\n",
    "```"
   ]
  },
  {
   "cell_type": "markdown",
   "metadata": {},
   "source": [
    "manually executed\n",
    "\n",
    "```\n",
    "drop table bibitemOld;\n",
    "drop tabel bibitemmagidmap;\n",
    "drop index bibitem_citing_aid_idx;\n",
    "drop index bibitem_cited_mid_idx;\n",
    "```"
   ]
  }
 ],
 "metadata": {
  "kernelspec": {
   "display_name": "Python 3",
   "language": "python",
   "name": "python3"
  },
  "language_info": {
   "codemirror_mode": {
    "name": "ipython",
    "version": 3
   },
   "file_extension": ".py",
   "mimetype": "text/x-python",
   "name": "python",
   "nbconvert_exporter": "python",
   "pygments_lexer": "ipython3",
   "version": "3.6.8"
  }
 },
 "nbformat": 4,
 "nbformat_minor": 2
}
